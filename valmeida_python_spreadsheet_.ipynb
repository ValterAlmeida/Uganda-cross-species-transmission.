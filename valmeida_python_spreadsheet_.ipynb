{
 "cells": [
  {
   "cell_type": "code",
   "execution_count": 1,
   "id": "c879f58c-c12b-4a71-89f4-1de07d659101",
   "metadata": {},
   "outputs": [],
   "source": [
    "# Load required packages\n",
    "import pandas as pd\n",
    "import seaborn as sns\n",
    "import matplotlib.pyplot as plt"
   ]
  },
  {
   "cell_type": "code",
   "execution_count": 2,
   "id": "dc9650e4-88e5-4eb3-ac9c-877045c08210",
   "metadata": {},
   "outputs": [
    {
     "data": {
      "text/plain": [
       "'/scale_wlg_nobackup/filesets/nobackup/massey03212/Python'"
      ]
     },
     "execution_count": 2,
     "metadata": {},
     "output_type": "execute_result"
    }
   ],
   "source": [
    "pwd"
   ]
  },
  {
   "cell_type": "code",
   "execution_count": 2,
   "id": "ac777c35-8847-4402-9f09-f9b6a9d42b19",
   "metadata": {},
   "outputs": [
    {
     "data": {
      "text/plain": [
       "'/scale_wlg_nobackup/filesets/nobackup/massey03212/Python'"
      ]
     },
     "execution_count": 2,
     "metadata": {},
     "output_type": "execute_result"
    }
   ],
   "source": [
    "pwd"
   ]
  },
  {
   "cell_type": "code",
   "execution_count": 7,
   "id": "79f67bfc-9da9-48d8-a663-7a93cd903bc8",
   "metadata": {},
   "outputs": [],
   "source": [
    "df = pd.read_csv(\"/scale_wlg_nobackup/filesets/nobackup/massey03212/Python_04_23/beta_diversity_3.csv\")"
   ]
  },
  {
   "cell_type": "code",
   "execution_count": 8,
   "id": "1c521267-508c-4825-97e3-c710b9f55acb",
   "metadata": {},
   "outputs": [
    {
     "name": "stdout",
     "output_type": "stream",
     "text": [
      "         0      1      2      3      4      5      6      7      8      9  \\\n",
      "x                                                                           \n",
      "0      NaN  0.594  0.152  0.417  0.195  0.237  0.313  0.372  0.497  0.702   \n",
      "1    0.594    NaN  0.600  0.581  0.622  0.597  0.510  0.507  0.461  0.493   \n",
      "2    0.152  0.600    NaN  0.465  0.152  0.246  0.349  0.388  0.513  0.702   \n",
      "3    0.417  0.581  0.465    NaN  0.450  0.452  0.361  0.507  0.498  0.744   \n",
      "4    0.195  0.622  0.152  0.450    NaN  0.279  0.362  0.416  0.527  0.717   \n",
      "..     ...    ...    ...    ...    ...    ...    ...    ...    ...    ...   \n",
      "252  0.880  0.807  0.881  0.892  0.873  0.874  0.865  0.815  0.856  0.822   \n",
      "253  0.744  0.763  0.720  0.844  0.712  0.747  0.781  0.731  0.802  0.710   \n",
      "254  0.796  0.790  0.781  0.864  0.766  0.797  0.826  0.780  0.841  0.813   \n",
      "255  0.866  0.694  0.863  0.879  0.859  0.850  0.836  0.769  0.768  0.631   \n",
      "256  0.870  0.845  0.861  0.912  0.853  0.876  0.881  0.834  0.888  0.857   \n",
      "\n",
      "     ...    247    248    249    250    251    252    253    254    255    256  \n",
      "x    ...                                                                        \n",
      "0    ...  0.840  0.865  0.759  0.927  0.873  0.880  0.744  0.796  0.866  0.870  \n",
      "1    ...  0.827  0.825  0.749  0.846  0.866  0.807  0.763  0.790  0.694  0.845  \n",
      "2    ...  0.828  0.858  0.748  0.925  0.867  0.881  0.720  0.781  0.863  0.861  \n",
      "3    ...  0.894  0.907  0.829  0.934  0.912  0.892  0.844  0.864  0.879  0.912  \n",
      "4    ...  0.818  0.845  0.730  0.924  0.855  0.873  0.712  0.766  0.859  0.853  \n",
      "..   ...    ...    ...    ...    ...    ...    ...    ...    ...    ...    ...  \n",
      "252  ...  0.725  0.624  0.709  0.657  0.721    NaN  0.748  0.747  0.660  0.661  \n",
      "253  ...  0.421  0.462  0.446  0.775  0.502  0.748    NaN  0.368  0.664  0.503  \n",
      "254  ...  0.181  0.349  0.539  0.794  0.371  0.747  0.368    NaN  0.714  0.271  \n",
      "255  ...  0.715  0.613  0.625  0.613  0.710  0.660  0.664  0.714    NaN  0.732  \n",
      "256  ...  0.266  0.337  0.631  0.694  0.419  0.661  0.503  0.271  0.732    NaN  \n",
      "\n",
      "[257 rows x 257 columns]\n"
     ]
    }
   ],
   "source": [
    "import pandas as pd\n",
    "import numpy as np\n",
    "\n",
    "# Load the distance matrix from a CSV file\n",
    "df = pd.read_csv(\"/scale_wlg_nobackup/filesets/nobackup/massey03212/Python_04_23/beta_diversity_3.csv\", index_col=0)\n",
    "\n",
    "# Replace \"x.xxx\" with NaN values\n",
    "df = df.replace(\"x.xxx\", np.nan)\n",
    "\n",
    "# Convert the data frame to a numpy array\n",
    "mat = df.values.astype(float)\n",
    "\n",
    "# Create a symmetric matrix\n",
    "mat = np.triu(mat) + np.triu(mat, 1).T\n",
    "\n",
    "# Set diagonal values to NaN\n",
    "np.fill_diagonal(mat, np.nan)\n",
    "\n",
    "# Convert back to a data frame\n",
    "df = pd.DataFrame(mat, index=df.index, columns=df.columns)\n",
    "\n",
    "# View the resulting data frame\n",
    "print(df)\n",
    "\n"
   ]
  },
  {
   "cell_type": "code",
   "execution_count": 10,
   "id": "8a262421-09a1-43cd-8f84-3bcec02feaed",
   "metadata": {},
   "outputs": [],
   "source": [
    "# Save the resulting data frame to a CSV file\n",
    "df.to_csv(\"/scale_wlg_nobackup/filesets/nobackup/massey03212/Python_04_23/beta_diversity_3_clean.csv\")\n"
   ]
  },
  {
   "cell_type": "code",
   "execution_count": 3,
   "id": "7947b2eb-65f1-4c9f-bacd-b39226e85407",
   "metadata": {},
   "outputs": [
    {
     "name": "stdout",
     "output_type": "stream",
     "text": [
      "ANOVA: F = 108.64892051287923 , p = 2.1125221335151986e-79\n",
      "Tukey's HSD:\n",
      "             Multiple Comparison of Means - Tukey HSD, FWER=0.05             \n",
      "============================================================================\n",
      "      group1             group2       meandiff p-adj   lower   upper  reject\n",
      "----------------------------------------------------------------------------\n",
      "            Cattle               Goat  -0.1696 0.5111 -0.4496  0.1104  False\n",
      "            Cattle Habituated_gorilla  -1.2549   -0.0 -1.5141 -0.9958   True\n",
      "            Cattle    Human_community  -1.4407   -0.0 -1.7016 -1.1797   True\n",
      "            Cattle     Human_hospital  -1.6513   -0.0 -1.9117  -1.391   True\n",
      "            Cattle       Wild_gorilla  -1.1452   -0.0 -1.4055 -0.8849   True\n",
      "              Goat Habituated_gorilla  -1.0853   -0.0  -1.354 -0.8167   True\n",
      "              Goat    Human_community  -1.2711   -0.0 -1.5415 -1.0007   True\n",
      "              Goat     Human_hospital  -1.4817   -0.0 -1.7515 -1.2119   True\n",
      "              Goat       Wild_gorilla  -0.9756   -0.0 -1.2454 -0.7058   True\n",
      "Habituated_gorilla    Human_community  -0.1858 0.2703 -0.4345   0.063  False\n",
      "Habituated_gorilla     Human_hospital  -0.3964 0.0001 -0.6445 -0.1483   True\n",
      "Habituated_gorilla       Wild_gorilla   0.1097 0.8039 -0.1383  0.3578  False\n",
      "   Human_community     Human_hospital  -0.2106 0.1546 -0.4606  0.0393  False\n",
      "   Human_community       Wild_gorilla   0.2955   0.01  0.0455  0.5455   True\n",
      "    Human_hospital       Wild_gorilla   0.5061    0.0  0.2568  0.7554   True\n",
      "----------------------------------------------------------------------------\n"
     ]
    },
    {
     "ename": "ValueError",
     "evalue": "too many values to unpack (expected 2)",
     "output_type": "error",
     "traceback": [
      "\u001b[0;31m---------------------------------------------------------------------------\u001b[0m",
      "\u001b[0;31mValueError\u001b[0m                                Traceback (most recent call last)",
      "Input \u001b[0;32mIn [3]\u001b[0m, in \u001b[0;36m<cell line: 41>\u001b[0;34m()\u001b[0m\n\u001b[1;32m     39\u001b[0m y_min \u001b[38;5;241m=\u001b[39m df[\u001b[38;5;124m\"\u001b[39m\u001b[38;5;124mAlpha_diversity\u001b[39m\u001b[38;5;124m\"\u001b[39m]\u001b[38;5;241m.\u001b[39mmin()\n\u001b[1;32m     40\u001b[0m y_diff \u001b[38;5;241m=\u001b[39m y_max \u001b[38;5;241m-\u001b[39m y_min\n\u001b[0;32m---> 41\u001b[0m \u001b[38;5;28;01mfor\u001b[39;00m i, (a, b) \u001b[38;5;129;01min\u001b[39;00m \u001b[38;5;28menumerate\u001b[39m(tukey\u001b[38;5;241m.\u001b[39m_results_table[\u001b[38;5;241m1\u001b[39m:]):\n\u001b[1;32m     42\u001b[0m     \u001b[38;5;28;01mif\u001b[39;00m a \u001b[38;5;129;01mnot\u001b[39;00m \u001b[38;5;129;01min\u001b[39;00m group_order \u001b[38;5;129;01mor\u001b[39;00m b \u001b[38;5;129;01mnot\u001b[39;00m \u001b[38;5;129;01min\u001b[39;00m group_order:\n\u001b[1;32m     43\u001b[0m         \u001b[38;5;28;01mcontinue\u001b[39;00m\n",
      "\u001b[0;31mValueError\u001b[0m: too many values to unpack (expected 2)"
     ]
    },
    {
     "data": {
      "image/png": "[encoded data removed]",
      "text/plain": [
       "<Figure size 432x288 with 1 Axes>"
      ]
     },
     "metadata": {
      "needs_background": "light"
     },
     "output_type": "display_data"
    }
   ],
   "source": [
    "import pandas as pd\n",
    "import matplotlib.pyplot as plt\n",
    "import seaborn as sns\n",
    "from scipy.stats import f_oneway\n",
    "from statsmodels.stats.multicomp import pairwise_tukeyhsd\n",
    "\n",
    "# Read in the data\n",
    "df = pd.read_csv(\"/scale_wlg_nobackup/filesets/nobackup/massey03212/Python/alpha_diversity_Uganda.csv\")\n",
    "\n",
    "# Define the order of the groups\n",
    "group_order = [\"Wild_gorilla\", \"Habituated_gorilla\", \"Human_hospital\", \"Human_community\", \"Cattle\", \"Goat\"]\n",
    "\n",
    "# Reorder the levels of the Group variable\n",
    "df[\"Group\"] = pd.Categorical(df[\"Group\"], categories=group_order)\n",
    "\n",
    "# Define colours for the violinplot and points\n",
    "my_colors = [\"#38761d\", \"#d9ead3\", \"#3d85c6\", \"#cfe2f3\", \"#f6b26b\", \"#ffd966\"]\n",
    "\n",
    "# Perform one-way ANOVA\n",
    "f, p = f_oneway(df[\"Alpha_diversity\"][df[\"Group\"] == \"Wild_gorilla\"],\n",
    "                df[\"Alpha_diversity\"][df[\"Group\"] == \"Habituated_gorilla\"],\n",
    "                df[\"Alpha_diversity\"][df[\"Group\"] == \"Human_hospital\"],\n",
    "                df[\"Alpha_diversity\"][df[\"Group\"] == \"Human_community\"],\n",
    "                df[\"Alpha_diversity\"][df[\"Group\"] == \"Cattle\"],\n",
    "                df[\"Alpha_diversity\"][df[\"Group\"] == \"Goat\"])\n",
    "\n",
    "# Perform Tukey's HSD test\n",
    "tukey = pairwise_tukeyhsd(df[\"Alpha_diversity\"], df[\"Group\"])\n",
    "\n",
    "# Print ANOVA and Tukey's HSD results\n",
    "print(\"ANOVA: F =\", f, \", p =\", p)\n",
    "print(\"Tukey's HSD:\\n\", tukey)\n",
    "\n",
    "# Create violinplot using seaborn\n",
    "sns.violinplot(x=\"Group\", y=\"Alpha_diversity\", data=df, palette=my_colors)\n",
    "\n",
    "# Add asterisks for significance\n",
    "y_max = df[\"Alpha_diversity\"].max()\n",
    "y_min = df[\"Alpha_diversity\"].min()\n",
    "y_diff = y_max - y_min\n",
    "for i, (a, b) in enumerate(tukey._results_table[1:]):\n",
    "    if a not in group_order or b not in group_order:\n",
    "        continue\n",
    "    if tukey.reject[i]:\n",
    "        x_pos = group_order.index(a)\n",
    "        y_pos = y_max + (i + 1) * y_diff / 20\n",
    "        plt.plot([x_pos - 0.2, x_pos + 0.2], [y_pos, y_pos], color=\"black\", lw=1)\n",
    "        plt.text(x_pos, y_pos, \"***\", ha=\"center\", va=\"center\", color=\"black\", fontsize=14)\n",
    "\n",
    "# Set axis labels and title\n",
    "plt.xlabel(\"Group\")\n",
    "plt.ylabel(\"Shannon's diversity\")\n",
    "plt.title(\"Alpha diversity across groups\")\n",
    "\n",
    "# Show plot\n",
    "plt.show()\n"
   ]
  },
  {
   "cell_type": "code",
   "execution_count": null,
   "id": "07dd3a02-2c6e-4b5e-89ff-9d5ab7371b7e",
   "metadata": {},
   "outputs": [],
   "source": []
  }
 ],
 "metadata": {
  "kernelspec": {
   "display_name": "Python 3.10.5 (gimkl-2022a)",
   "language": "python",
   "name": "python3105-gimkl-2022a"
  },
  "language_info": {
   "codemirror_mode": {
    "name": "ipython",
    "version": 3
   },
   "file_extension": ".py",
   "mimetype": "text/x-python",
   "name": "python",
   "nbconvert_exporter": "python",
   "pygments_lexer": "ipython3",
   "version": "3.10.5"
  }
 },
 "nbformat": 4,
 "nbformat_minor": 5
}
